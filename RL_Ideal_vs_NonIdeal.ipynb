{
 "cells": [
  {
   "cell_type": "code",
   "execution_count": 1,
   "metadata": {},
   "outputs": [
    {
     "name": "stdout",
     "output_type": "stream",
     "text": [
      "Author        : sm626967\n",
      "Python        : 3.7.4 \n",
      "NumPy         : 1.18.1\n",
      "Encoding      : utf-8\n",
      "Timestamp     : 1593118384.0886765\n"
     ]
    }
   ],
   "source": [
    "%run ./py_templates/1_Boilerplate_numeric.py"
   ]
  },
  {
   "cell_type": "markdown",
   "metadata": {},
   "source": [
    "# Ideal vs NonIdeal Inductors"
   ]
  },
  {
   "cell_type": "markdown",
   "metadata": {},
   "source": [
    "Look at this schematic:"
   ]
  },
  {
   "cell_type": "markdown",
   "metadata": {},
   "source": [
    "![](./RL_Circuit_Frequency_Sweep_Schematic___IDEAL.JPG)"
   ]
  },
  {
   "cell_type": "markdown",
   "metadata": {},
   "source": [
    "Note that for this simulation the <code>VALUES</code> for <code>V1</code> are just place holders. The frequency will be swept from <code>1Hz</code> to <code>250GHz</code>."
   ]
  },
  {
   "cell_type": "markdown",
   "metadata": {},
   "source": [
    "NB! this circuit is a <code>PASSIVE</code>circuit. No gain is possible so the \"best case\" outcome is a gain of <code>1</code>.  The circuit may well become more <code>LOSSY</code> but it will never be capable of gain.  Just keep that in the back of your mind when contemplating my questions in the discussion thread. "
   ]
  },
  {
   "cell_type": "markdown",
   "metadata": {},
   "source": [
    "We are going to sweep the frequency while keeping the amplitude constant over frequency.  Further, we will monitor the voltage between <code>node 2</code> and <code>node 0</code>, which as you now know is the same from a phase perspective as monitoring the current through the circuit.  Here is the plot:"
   ]
  },
  {
   "cell_type": "markdown",
   "metadata": {},
   "source": [
    "![](./RL_Circuit_Frequency_Sweep_IDEAL.JPG)"
   ]
  },
  {
   "cell_type": "markdown",
   "metadata": {},
   "source": [
    "Next we replace the inductor with a nonideal part.  This is the component we have been using to model non-ideal inductor parts:"
   ]
  },
  {
   "cell_type": "markdown",
   "metadata": {},
   "source": [
    "![](./RL_Circuit_Frequency_Sweep_Schematic.JPG)"
   ]
  },
  {
   "cell_type": "markdown",
   "metadata": {},
   "source": [
    "We are going to sweep the frequency while keeping the amplitude constant over frequency.  Further, we will monitor the voltage between <code>node 2</code> and <code>node 0</code>.  Here is the frequency sweep plot:"
   ]
  },
  {
   "cell_type": "markdown",
   "metadata": {},
   "source": [
    "![](./RL_Circuit_Frequency_Sweep.JPG)"
   ]
  },
  {
   "cell_type": "markdown",
   "metadata": {},
   "source": [
    "Now, refer to the Discussion question for the week and answer the questions based upon the data presented here."
   ]
  }
 ],
 "metadata": {
  "kernelspec": {
   "display_name": "Python 3",
   "language": "python",
   "name": "python3"
  },
  "language_info": {
   "codemirror_mode": {
    "name": "ipython",
    "version": 3
   },
   "file_extension": ".py",
   "mimetype": "text/x-python",
   "name": "python",
   "nbconvert_exporter": "python",
   "pygments_lexer": "ipython3",
   "version": "3.7.4"
  }
 },
 "nbformat": 4,
 "nbformat_minor": 4
}
